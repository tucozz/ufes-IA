{
 "cells": [
  {
   "cell_type": "markdown",
   "id": "a3a1cfe9",
   "metadata": {},
   "source": [
    "1) Aplique 6 repetições de validação cruzada com 5 folds no dataset breast com o classificador Naive Bayes Gaussiano\n",
    "e apresente a acurácia média e o desvio padrão, assim como o intervalo de confiança a 95% de significância."
   ]
  },
  {
   "cell_type": "markdown",
   "id": "c38ddb6e",
   "metadata": {},
   "source": [
    "2) Repita o exercício 1 agora usando o classificador Multi Layer Perceptron."
   ]
  },
  {
   "cell_type": "markdown",
   "id": "de35f4f2",
   "metadata": {},
   "source": [
    "3) Aplique o método de reamostragem de validação cruzada aninhada repetida com 6 repetições de validação cruzada\n",
    "com 5 folds no ciclo externo e 4 folds no ciclo interno no dataset breast com o classificador de Florestas de Árvores\n",
    "Aleatórias fazendo uma busca em grade nos valores de número de estimadores igual a 10, 20, 50, 100. A base de dados\n",
    "deve ser padronizada. Apresente os 30 resultados de acurácia alcançados em cada fold de teste, a média, o desvio\n",
    "padrão e o intervalo de confiança a 95% dessas acurácias."
   ]
  },
  {
   "cell_type": "markdown",
   "id": "e93f7536",
   "metadata": {},
   "source": [
    "4) Use os classificadores de Bagging e AdaBoost para realizar 3 repetições de validação cruzada aninhada com 10 folds\n",
    "no loop externo e 4 folds no loop interno. Use o classificador Gaussian Naive Bayes como classificador base. A busca\n",
    "em grade deve variar apenas a quantidade de classificadores do combinado considerando combinados com 10, 25 e 50\n",
    "classificadores. Use random_state igual a 0. A base de dados utilizada é a wine e deve ser padronizada. Apresente a\n",
    "acurácia média, o desvio padrão e o intervalo de confiança a 95% dos dois métodos e realize o teste t de Student\n",
    "corrigido por Nadeau e Bangio para verificar se as diferenças são significativas."
   ]
  }
 ],
 "metadata": {
  "language_info": {
   "name": "python"
  }
 },
 "nbformat": 4,
 "nbformat_minor": 5
}
