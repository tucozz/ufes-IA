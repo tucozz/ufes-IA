{
 "cells": [
  {
   "cell_type": "markdown",
   "id": "db770269",
   "metadata": {},
   "source": [
    "1) Definir a função step para mudar um descritor de estado adicionando um novo valor ao estado corrente.\n",
    "Exemplos:\n",
    "step ([]) => [[0],[1]]\n",
    "step ([1,0,1]) => [[1,0,1,0], [1,0,1,1]]"
   ]
  },
  {
   "cell_type": "markdown",
   "id": "e31c1c4e",
   "metadata": {},
   "source": [
    "2) Definir a função expand que receba uma lista de estados e expanda cada um deles usando a função step definida no\n",
    "item 1.\n",
    "Exemplos:\n",
    "expand ([]) => [[0],[1]]\n",
    "expand ([[0],[1]]) => [[0, 0], [0, 1], [1, 0], [1, 1]]\n",
    "expand ([[1,0,1]]) => [[1,0,1,0], [1,0,1,1]]"
   ]
  },
  {
   "cell_type": "markdown",
   "id": "9c6194e9",
   "metadata": {},
   "source": [
    "3) Definir a função combine que receba um tamanho de estado e retorne todas as possíveis configurações de estados.\n",
    "combine (0) => []\n",
    "combine (1) => [[0], [1]]\n",
    "combine (2) => [[0, 0], [0, 1], [1, 0], [1, 1]]\n",
    "combine (3) => [[0, 0, 0], [0, 0, 1], [0, 1, 0], [0, 1, 1], [1, 0, 0], [1, 0, 1], [1, 1, 0], [1, 1, 1]]"
   ]
  },
  {
   "cell_type": "markdown",
   "id": "9d26e2a2",
   "metadata": {},
   "source": [
    "4) Definir a função size que recebe um estado e uma lista de tamanhos de itens e determina o tamanho total ocupado\n",
    "pelo estado.\n",
    "size ([],[]) => 0\n",
    "size ([0, 0, 0], [1, 7, 4]) => 0\n",
    "size ([1, 0, 1], [1, 7, 4]) => 5\n",
    "size ([1, 1, 1], [1, 7, 4]) => 12"
   ]
  },
  {
   "cell_type": "markdown",
   "id": "60c820c8",
   "metadata": {},
   "source": [
    "5) Definir a função size que recebe um estado, uma lista de tamanhos de itens e o tamanho da mochila e determina o\n",
    "estado é válido, isto é, se seu tamanho é menor ou igual ao tamanho da mochila.\n",
    "valid ([1, 0, 1], [1, 7, 4], 8) => True\n",
    "valid ([1, 0, 1], [1, 7, 4], 2) => False"
   ]
  },
  {
   "cell_type": "markdown",
   "id": "5554c043",
   "metadata": {},
   "source": [
    "6) Definir a função solution que recebe um estado e uma lista de tamanhos de itens e retorna uma lista de tamanhos de\n",
    "itens que compõem o estado.\n",
    "solution ([0, 0, 0], [1, 7, 4])=> []\n",
    "solution ([0, 0, 1], [1, 7, 4])=> [4]\n",
    "solution ([1, 0, 1], [1, 7, 4])=> [1,4]"
   ]
  },
  {
   "cell_type": "markdown",
   "id": "5985ad85",
   "metadata": {},
   "source": [
    "7) Definir a função blindSearchKnapsack01 que recebe o tamanho da mochila e uma lista de tamanhos de itens e\n",
    "retorna uma lista de tuplas contendo todas soluções válidas e seus respectivos tamanhos.\n",
    "blindSearchKnapsack01 (3, [1, 7, 8])=> [([], 0), ([1], 1)]\n",
    "blindSearchKnapsack01 (8, [1, 7, 8])=> [([], 0), ([8], 8), ([7], 7), ([1], 1), ([1, 7], 8)]"
   ]
  },
  {
   "cell_type": "markdown",
   "id": "4cd8c319",
   "metadata": {},
   "source": [
    "8) Definir a função blindSearchKnapsack01Max que recebe o tamanho da mochila e uma lista de tamanhos de itens e\n",
    "retorna uma lista de tuplas contendo todas soluções que maximizam o tamanho ocupado das mochilas e seus respectivos\n",
    "tamanhos.\n",
    "blindSearchKnapsack01Max (8, [1, 7, 4]) => [([1, 7], 8)]\n",
    "blindSearchKnapsack01Max (8, [1, 7, 8]) => [([8], 8), ([1, 7], 8)]"
   ]
  }
 ],
 "metadata": {
  "language_info": {
   "name": "python"
  }
 },
 "nbformat": 4,
 "nbformat_minor": 5
}
