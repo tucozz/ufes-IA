{
 "cells": [
  {
   "cell_type": "markdown",
   "id": "db770269",
   "metadata": {},
   "source": [
    "1) Definir a função step para mudar um descritor de estado adicionando um novo valor ao estado corrente.\n",
    "Exemplos:\n",
    "step ([]) => [[0],[1]]\n",
    "step ([1,0,1]) => [[1,0,1,0], [1,0,1,1]]"
   ]
  },
  {
   "cell_type": "code",
   "execution_count": 4,
   "id": "fc5bb72d",
   "metadata": {},
   "outputs": [],
   "source": [
    "def step(lista):\n",
    "    ret1 = lista + [0]\n",
    "    ret2 = lista + [1]\n",
    "    return [ret1, ret2]"
   ]
  },
  {
   "cell_type": "code",
   "execution_count": 6,
   "id": "0a90a2c0",
   "metadata": {},
   "outputs": [
    {
     "name": "stdout",
     "output_type": "stream",
     "text": [
      "[[0], [1]]\n",
      "[[1, 0, 1, 0], [1, 0, 1, 1]]\n"
     ]
    }
   ],
   "source": [
    "print(step([]))\n",
    "print(step([1, 0, 1]))"
   ]
  },
  {
   "cell_type": "markdown",
   "id": "e31c1c4e",
   "metadata": {},
   "source": [
    "2) Definir a função expand que receba uma lista de estados e expanda cada um deles usando a função step definida no\n",
    "item 1.\n",
    "Exemplos:\n",
    "expand ([]) => [[0],[1]]\n",
    "expand ([[0],[1]]) => [[0, 0], [0, 1], [1, 0], [1, 1]]\n",
    "expand ([[1,0,1]]) => [[1,0,1,0], [1,0,1,1]]"
   ]
  },
  {
   "cell_type": "code",
   "execution_count": 28,
   "id": "2deed63c",
   "metadata": {},
   "outputs": [],
   "source": [
    "def expand(lista):\n",
    "    if len(lista) == 0:\n",
    "        return [[0],[1]]\n",
    "    ret = []\n",
    "    for i in lista:\n",
    "        ret += step(i)\n",
    "    return ret\n",
    "            "
   ]
  },
  {
   "cell_type": "code",
   "execution_count": 29,
   "id": "afdc4630",
   "metadata": {},
   "outputs": [
    {
     "name": "stdout",
     "output_type": "stream",
     "text": [
      "[[0], [1]]\n",
      "[[0, 0], [0, 1], [1, 0], [1, 1]]\n",
      "[[1, 0, 1, 0], [1, 0, 1, 1]]\n"
     ]
    }
   ],
   "source": [
    "print(expand([]))\n",
    "print(expand([[0], [1]]))\n",
    "print(expand([[1,0,1]]))"
   ]
  },
  {
   "cell_type": "markdown",
   "id": "9c6194e9",
   "metadata": {},
   "source": [
    "3) Definir a função combine que receba um tamanho de estado e retorne todas as possíveis configurações de estados.\n",
    "combine (0) => []\n",
    "combine (1) => [[0], [1]]\n",
    "combine (2) => [[0, 0], [0, 1], [1, 0], [1, 1]]\n",
    "combine (3) => [[0, 0, 0], [0, 0, 1], [0, 1, 0], [0, 1, 1], [1, 0, 0], [1, 0, 1], [1, 1, 0], [1, 1, 1]]"
   ]
  },
  {
   "cell_type": "code",
   "execution_count": 30,
   "id": "5166f168",
   "metadata": {},
   "outputs": [],
   "source": [
    "def combine(int):\n",
    "    if int == 0:\n",
    "        return []\n",
    "    ret = []\n",
    "    for i in range(int):\n",
    "        ret = expand(ret)\n",
    "    return ret"
   ]
  },
  {
   "cell_type": "code",
   "execution_count": 31,
   "id": "94c224bb",
   "metadata": {},
   "outputs": [
    {
     "name": "stdout",
     "output_type": "stream",
     "text": [
      "[]\n",
      "[[0], [1]]\n",
      "[[0, 0], [0, 1], [1, 0], [1, 1]]\n",
      "[[0, 0, 0], [0, 0, 1], [0, 1, 0], [0, 1, 1], [1, 0, 0], [1, 0, 1], [1, 1, 0], [1, 1, 1]]\n"
     ]
    }
   ],
   "source": [
    "print(combine(0))\n",
    "print(combine(1))\n",
    "print(combine(2))\n",
    "print(combine(3))"
   ]
  },
  {
   "cell_type": "markdown",
   "id": "9d26e2a2",
   "metadata": {},
   "source": [
    "4) Definir a função size que recebe um estado e uma lista de tamanhos de itens e determina o tamanho total ocupado\n",
    "pelo estado.\n",
    "size ([],[]) => 0\n",
    "size ([0, 0, 0], [1, 7, 4]) => 0\n",
    "size ([1, 0, 1], [1, 7, 4]) => 5\n",
    "size ([1, 1, 1], [1, 7, 4]) => 12"
   ]
  },
  {
   "cell_type": "code",
   "execution_count": 32,
   "id": "7de85892",
   "metadata": {},
   "outputs": [],
   "source": [
    "def size(state, sizes):\n",
    "    if len(state) == 0:\n",
    "        return 0\n",
    "    sum = 0\n",
    "    for i in range(len(state)):\n",
    "        sum += sizes[i] * state[i]\n",
    "    return sum"
   ]
  },
  {
   "cell_type": "code",
   "execution_count": 34,
   "id": "82328457",
   "metadata": {},
   "outputs": [
    {
     "name": "stdout",
     "output_type": "stream",
     "text": [
      "0\n",
      "0\n",
      "5\n",
      "12\n"
     ]
    }
   ],
   "source": [
    "print(size([], []))\n",
    "print(size ([0, 0, 0], [1, 7, 4]))\n",
    "print(size ([1, 0, 1], [1, 7, 4]))\n",
    "print(size ([1, 1, 1], [1, 7, 4]))"
   ]
  },
  {
   "cell_type": "markdown",
   "id": "60c820c8",
   "metadata": {},
   "source": [
    "5) Definir a função valid que recebe um estado, uma lista de tamanhos de itens e o tamanho da mochila e determina o\n",
    "estado é válido, isto é, se seu tamanho é menor ou igual ao tamanho da mochila.\n",
    "valid ([1, 0, 1], [1, 7, 4], 8) => True\n",
    "valid ([1, 0, 1], [1, 7, 4], 2) => False"
   ]
  },
  {
   "cell_type": "code",
   "execution_count": 35,
   "id": "4dd8bed6",
   "metadata": {},
   "outputs": [],
   "source": [
    "def valid(state, sizes, max):\n",
    "    if size(state, sizes) > max:\n",
    "        return False\n",
    "    for i in range(len(state)):\n",
    "        if state[i] > sizes[i]:\n",
    "            return False\n",
    "    return True"
   ]
  },
  {
   "cell_type": "code",
   "execution_count": 36,
   "id": "5cf87cd0",
   "metadata": {},
   "outputs": [
    {
     "name": "stdout",
     "output_type": "stream",
     "text": [
      "True\n",
      "False\n"
     ]
    }
   ],
   "source": [
    "print(valid ([1, 0, 1], [1, 7, 4], 8))\n",
    "print(valid ([1, 0, 1], [1, 7, 4], 2))"
   ]
  },
  {
   "cell_type": "markdown",
   "id": "5554c043",
   "metadata": {},
   "source": [
    "6) Definir a função solution que recebe um estado e uma lista de tamanhos de itens e retorna uma lista de tamanhos de\n",
    "itens que compõem o estado.\n",
    "solution ([0, 0, 0], [1, 7, 4])=> []\n",
    "solution ([0, 0, 1], [1, 7, 4])=> [4]\n",
    "solution ([1, 0, 1], [1, 7, 4])=> [1,4]"
   ]
  },
  {
   "cell_type": "code",
   "execution_count": 40,
   "id": "287b48d1",
   "metadata": {},
   "outputs": [],
   "source": [
    "def solution(state, sizes):\n",
    "    if len(state) == 0:\n",
    "        return []\n",
    "    ret = []\n",
    "    for i in range(len(state)):\n",
    "        if state[i] > 0:\n",
    "            ret.append(sizes[i])\n",
    "    return ret"
   ]
  },
  {
   "cell_type": "code",
   "execution_count": 41,
   "id": "c49283b8",
   "metadata": {},
   "outputs": [
    {
     "name": "stdout",
     "output_type": "stream",
     "text": [
      "[]\n",
      "[4]\n",
      "[1, 4]\n"
     ]
    }
   ],
   "source": [
    "print(solution ([0, 0, 0], [1, 7, 4]))\n",
    "print(solution ([0, 0, 1], [1, 7, 4]))\n",
    "print(solution ([1, 0, 1], [1, 7, 4]))"
   ]
  },
  {
   "cell_type": "markdown",
   "id": "5985ad85",
   "metadata": {},
   "source": [
    "7) Definir a função blindSearchKnapsack01 que recebe o tamanho da mochila e uma lista de tamanhos de itens e\n",
    "retorna uma lista de tuplas contendo todas soluções válidas e seus respectivos tamanhos.\n",
    "blindSearchKnapsack01 (3, [1, 7, 8])=> [([], 0), ([1], 1)]\n",
    "blindSearchKnapsack01 (8, [1, 7, 8])=> [([], 0), ([8], 8), ([7], 7), ([1], 1), ([1, 7], 8)]"
   ]
  },
  {
   "cell_type": "code",
   "execution_count": 46,
   "id": "2d7e3deb",
   "metadata": {},
   "outputs": [],
   "source": [
    "def blindSearchKnapsack01(max, sizes):\n",
    "    ret = []\n",
    "    for i in combine(len(sizes)):\n",
    "        if valid(i, sizes, max):\n",
    "            ret.append((solution(i, sizes), size(i, sizes)))\n",
    "    return ret"
   ]
  },
  {
   "cell_type": "code",
   "execution_count": 47,
   "id": "ed971801",
   "metadata": {},
   "outputs": [
    {
     "name": "stdout",
     "output_type": "stream",
     "text": [
      "[([], 0), ([1], 1)]\n",
      "[([], 0), ([8], 8), ([7], 7), ([1], 1), ([1, 7], 8)]\n"
     ]
    }
   ],
   "source": [
    "print(blindSearchKnapsack01 (3, [1, 7, 8]))\n",
    "print(blindSearchKnapsack01 (8, [1, 7, 8]))"
   ]
  },
  {
   "cell_type": "markdown",
   "id": "4cd8c319",
   "metadata": {},
   "source": [
    "8) Definir a função blindSearchKnapsack01Max que recebe o tamanho da mochila e uma lista de tamanhos de itens e\n",
    "retorna uma lista de tuplas contendo todas soluções que maximizam o tamanho ocupado das mochilas e seus respectivos\n",
    "tamanhos.\n",
    "blindSearchKnapsack01Max (8, [1, 7, 4]) => [([1, 7], 8)]\n",
    "blindSearchKnapsack01Max (8, [1, 7, 8]) => [([8], 8), ([1, 7], 8)]"
   ]
  },
  {
   "cell_type": "code",
   "execution_count": null,
   "id": "3f4f35d3",
   "metadata": {},
   "outputs": [],
   "source": [
    "def blindSearchKnapsack01Max(max, sizes):\n",
    "    ret = []\n",
    "    for i in combine(len(sizes)):\n",
    "        if size(i, sizes) == max:\n",
    "            ret.append((solution(i, sizes), size(i, sizes)))\n",
    "    return ret"
   ]
  },
  {
   "cell_type": "code",
   "execution_count": null,
   "id": "67fa0b81",
   "metadata": {},
   "outputs": [],
   "source": [
    "print(blindSearchKnapsack01Max (8, [1, 7, 4]))\n",
    "print(blindSearchKnapsack01Max (8, [1, 7, 8]))"
   ]
  }
 ],
 "metadata": {
  "kernelspec": {
   "display_name": ".venv",
   "language": "python",
   "name": "python3"
  },
  "language_info": {
   "codemirror_mode": {
    "name": "ipython",
    "version": 3
   },
   "file_extension": ".py",
   "mimetype": "text/x-python",
   "name": "python",
   "nbconvert_exporter": "python",
   "pygments_lexer": "ipython3",
   "version": "3.13.2"
  }
 },
 "nbformat": 4,
 "nbformat_minor": 5
}
