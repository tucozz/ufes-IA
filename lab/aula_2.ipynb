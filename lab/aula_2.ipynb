{
 "cells": [
  {
   "cell_type": "markdown",
   "id": "ab78c456",
   "metadata": {},
   "source": [
    "1) Usando funções da biblioteca numpy, calcular a média e o desvio padrão do seguinte conjunto de números: 87, 100, 104, 94, 105, 88, 103, 99, 91, 80."
   ]
  },
  {
   "cell_type": "markdown",
   "id": "cb0b29ed",
   "metadata": {},
   "source": [
    "2) Usando a função de transformada rápida da biblioteca numpy, transformar a seguinte sequência de números 1.0, 2.0, 1.0, -1.0, 1.5 para o domínio da frequência."
   ]
  },
  {
   "cell_type": "markdown",
   "id": "2de4bd57",
   "metadata": {},
   "source": [
    "3) Usando funções das bibliotecas numpy e scipy, calcule a média, o desvio padrão e intervalo de confiança das seguintes listas de valores:\n",
    "\n",
    "lista 1: 11, 13, 13, 13, 13, 13, 9, 13, 13, 13, 9, 13, 13, 13, 13, 13, 13, 13, 13, 13, 9, 13, 11, 13, 9, 11, 11, 13, 11, 11\n",
    "\n",
    "lista 2: 11, 13, 13, 6, 11, 11, 9, 13, 13, 11, 13, 11, 13, 13, 6, 11, 11, 11, 13, 13, 6, 13, 13, 11, 13, 6, 13, 9, 13, 13"
   ]
  },
  {
   "cell_type": "markdown",
   "id": "cf32264c",
   "metadata": {},
   "source": [
    "4) Usando a biblioteca pandas crie um dataframe a partir do dicionário de dados d = {\"one\": [1.0, 2.0, 3.0, 4.0], \"two\": [4.0, 3.0, 2.0, 1.0]} e depois renomeie as linhas do dataframe para \"a\", \"b\", \"c\" e \"d\"."
   ]
  },
  {
   "cell_type": "markdown",
   "id": "9fede329",
   "metadata": {},
   "source": [
    "5) Usando a biblioteca pandas crie um dataframe a partir do dicionário de dados data = {'Name':['Jai', 'Princi', 'Gaurav', 'Anuj'], 'Age':[27, 24, 22, 32], 'Address' ['Delhi', 'Kanpur', 'Allahabad', 'Kannauj'], 'Qualification':['Msc', 'MA', 'MCA', 'Phd']} e faça:\n",
    "\n",
    "5.a) Ordene os dados pela coluna Age."
   ]
  },
  {
   "cell_type": "markdown",
   "id": "f66f5d2d",
   "metadata": {},
   "source": [
    "5.b) Apresente o slice do dataframe composto pelas colunas Name e Qualification."
   ]
  },
  {
   "cell_type": "markdown",
   "id": "9a81f493",
   "metadata": {},
   "source": [
    "5.c) Converta o dataframe em uma matriz e a apresente. Apresente também o valor da posição (1, 2) da matriz."
   ]
  },
  {
   "cell_type": "markdown",
   "id": "642c0742",
   "metadata": {},
   "source": [
    "6) Usando o pacote pyplot da biblioteca matplotlib apresente um gráfico de linhas para a sequência de valores 1, 2, 5, 4. Defina o nome do eixo horizontal como “some stuff” e o do eixo vertical como “some numbers”."
   ]
  },
  {
   "cell_type": "markdown",
   "id": "58d19cc6",
   "metadata": {},
   "source": [
    "7) Usando o pacote pyplot da biblioteca matplotlib apresente um gráfico de linhas para uma curva seno entre 0 e 3 π."
   ]
  },
  {
   "cell_type": "markdown",
   "id": "2642de36",
   "metadata": {},
   "source": [
    "8) Apresente um gráfico contendo 3 linhas representando pontos no intervalo entre 0 e 5, variando-se a cada 0.2. Uma linha deve ser vermelha com variação linear e pontos indicados por bolas, outra deve ser azul com variação quadrática com pontos representados por quadrados e a restante deve ser verde com variação cúbica com pontos representados por triângulos"
   ]
  },
  {
   "cell_type": "markdown",
   "id": "33ba05e4",
   "metadata": {},
   "source": [
    "9) Criar um gráfico de barras indicando 3 grupos (a, b e c) com os correspondentes valores 1, 10 e 100."
   ]
  },
  {
   "cell_type": "markdown",
   "id": "1d479b68",
   "metadata": {},
   "source": [
    "10) Criar um histograma com 5 faixas equidistantes para a seguinte lista de valores: 1, 33, 20, 17, 64, 55, 22, 13, 99, 16, 80, 78, 99."
   ]
  },
  {
   "cell_type": "markdown",
   "id": "d4e15b7b",
   "metadata": {},
   "source": [
    "11) Fazer um gráfico de dispersão para os seguintes pontos no plano cartesiano: (5, 99), (7, 86), (8, 87), (7, 88), (2, 111), (17, 86), (2, 103), (9, 87), (4, 94), (11, 78), (12, 77), (9, 85), (6, 86)."
   ]
  },
  {
   "cell_type": "markdown",
   "id": "fefa7429",
   "metadata": {},
   "source": [
    "12) Usando a biblioteca seaborn, carregue o dataset \"titanic\" e crie um gráfico de barras mostrando a taxa de sobrevivência (entre 0 e 1) para passageiros masculinos e femininos, separando ainda por classe (primeira, segunda e terceira)."
   ]
  },
  {
   "cell_type": "markdown",
   "id": "73aa6bd7",
   "metadata": {},
   "source": [
    "13) Usando a biblioteca seaborn, carregue o dataset \"iris\" e crie um gráfico de dispersão das espécies nos eixos formados pelas características 'sepal_length' e 'petal_width'."
   ]
  },
  {
   "cell_type": "markdown",
   "id": "38782f48",
   "metadata": {},
   "source": [
    "14) Crie agora gráfico com caixas indicando a distribuição de valores das características 'sepal_length', sepal_width' e 'petal_length' e 'petal_width'. Mostre o valor médio em cada caixa."
   ]
  },
  {
   "cell_type": "markdown",
   "id": "8fe9c436",
   "metadata": {},
   "source": [
    "15) Usando a biblioteca manifold do sklearn apresente uma projeção T-SNE da base iris."
   ]
  }
 ],
 "metadata": {
  "language_info": {
   "name": "python"
  }
 },
 "nbformat": 4,
 "nbformat_minor": 5
}
