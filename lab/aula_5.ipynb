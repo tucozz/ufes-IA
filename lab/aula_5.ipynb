{
 "cells": [
  {
   "cell_type": "markdown",
   "id": "b4646124",
   "metadata": {},
   "source": [
    "1) Apresente as matrizes de confusão, as acurácias média e os desvios padrão da aplicação dos classificadores ZeroR,\n",
    "Aleatório Uniforme e Aleatório Estratificado usando validação cruzada com 10 dobras (folds) na base de dados\n",
    "(dataset) iris usando como semente de geração aleatória o valor 7 e o valor 11. Analise os resultados indicando se houve\n",
    "diferenças e, se for o caso, porque ocorrem."
   ]
  },
  {
   "cell_type": "markdown",
   "id": "f912da74",
   "metadata": {},
   "source": [
    "2) Repita o exercício 1 usando o dataset digits."
   ]
  },
  {
   "cell_type": "markdown",
   "id": "dc744b7e",
   "metadata": {},
   "source": [
    "3) Obtenha a acurácia média, o desvio padrão e o intervalo de confiança a 95% do classificador Vizinho Mais Próximo\n",
    "usando validação cruzada com 10 folds na base de dados iris normalizada pelo valor máximo absoluto, normalizada\n",
    "pelo maior intervalo, padronizada e a não normalizada. Compare os resultados. Aplique o teste estatístico de Wilcoxon\n",
    "para verificar se as diferenças dos resultados entre as bases normalizadas e a não normalizada são significativas a 95%\n",
    "de confiança."
   ]
  },
  {
   "cell_type": "markdown",
   "id": "47e7c514",
   "metadata": {},
   "source": [
    "4) Repita o exercício 3 usando o dataset digits."
   ]
  },
  {
   "cell_type": "markdown",
   "id": "987f9894",
   "metadata": {},
   "source": [
    "5) Use o classificador K Vizinhos Mais Próximos para realizar 3 repetições de validação cruzada aninhada com 10\n",
    "folds no loop externo e 4 folds no loop interno. A busca em grade deve usar os seguintes valores de K: 1, 3, 5, 6, 8. A\n",
    "base de dados utilizada é a iris e deve ser padronizada. Apresente a acurácia média, o desvio padrão e o intervalo de\n",
    "confiança a 95%. Repita o procedimento com a base não padronizada e aplique o teste estatístico t de Student com\n",
    "correção de Nadeau e Bengio para verificar se as diferenças dos resultados com base padronizada e não padronizadas\n",
    "são significativas a 95% de confiança."
   ]
  },
  {
   "cell_type": "markdown",
   "id": "9369dbdc",
   "metadata": {},
   "source": [
    "6) Repita o exercício 5 usando o dataset wine."
   ]
  },
  {
   "cell_type": "markdown",
   "id": "0a2068c1",
   "metadata": {},
   "source": [
    "7) Repita o exercício 6 usando o inverso da distância para diferenciar o peso dos vizinhos na hora de computar a\n",
    "classificação dos exemplos de teste. Compare os resultados com os obtidos no exercício anterior para as bases\n",
    "padronizadas e sem normalização. Neste exercício não é preciso realizar testes estatísticos."
   ]
  }
 ],
 "metadata": {
  "language_info": {
   "name": "python"
  }
 },
 "nbformat": 4,
 "nbformat_minor": 5
}
