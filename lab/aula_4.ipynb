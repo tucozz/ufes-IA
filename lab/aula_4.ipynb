{
 "cells": [
  {
   "cell_type": "markdown",
   "id": "07933fff",
   "metadata": {},
   "source": [
    "1) Considerando as seguintes matrizes de dados X_train = [[1, 2], [np.nan, 3], [7, 6]] e X_test = [[np.nan, 2], [6,\n",
    "np.nan], [7, 6]], substitua os valores com Numpy Not a Number (np.nan) em X_test pela a média dos valores das\n",
    "características em X_train."
   ]
  },
  {
   "cell_type": "markdown",
   "id": "43816e99",
   "metadata": {},
   "source": [
    "2) Substitua np.nan por -1 nas matrizes X_train e X_test e substitua os valores com -1 em X_test pela mediana dos\n",
    "valores das características em X_train."
   ]
  },
  {
   "cell_type": "markdown",
   "id": "81cd01ed",
   "metadata": {},
   "source": [
    "3) Substitua -1 na matriz X_test e substitua os valores com -1 em X_test pelo valor arbitrário 11.\n"
   ]
  },
  {
   "cell_type": "markdown",
   "id": "f60c81e9",
   "metadata": {},
   "source": [
    "4) Substitua o valor np.nan na matriz df = [[\"a\", \"x\"], [np.nan, \"y\"], [\"a\", np.nan],[\"b\", \"y\"]] pela moda das\n",
    "características categóricas.\n"
   ]
  },
  {
   "cell_type": "markdown",
   "id": "3e806449",
   "metadata": {},
   "source": [
    "5) Substitua o valor np.nan na matriz df = [[\"a\", \"x\"], [np.nan, \"y\"], [\"a\", np.nan],[\"b\", \"y\"]] pelo valor arbitrário \"k\" nas\n",
    "características categóricas.\n"
   ]
  },
  {
   "cell_type": "markdown",
   "id": "b80cebf3",
   "metadata": {},
   "source": [
    "6) Selecione aleatoriamente 18 exemplos de treino e 12 exemplos de teste do dataset iris, e realize a normalização\n",
    "desses conjuntos pelo valor máximo da característica. Note que o valor máximo do treino deve ser usado na\n",
    "normalização dos exemplos de teste. Apresente os conjuntos de treino e teste originais e normalizados. Observe se no\n",
    "conjunto de teste normalizado tem valores superiores a 1.0. Justifique.\n"
   ]
  },
  {
   "cell_type": "markdown",
   "id": "88bdd35d",
   "metadata": {},
   "source": [
    "7) Realize a normalização dos conjuntos de treino e teste da questão anterior pelo maior intervalo (minmax) da\n",
    "característica. Note que o intervalo máximo do treino deve ser usado na normalização dos exemplos de teste. Apresente\n",
    "os conjuntos de treino e teste normalizados dessa forma. Observe se no conjunto de teste normalizado tem valores\n",
    "superiores a 1.0. Justifique. Repita o procedimento agora mudando a escala de valores para o intervalo entre 10 e 20.\n"
   ]
  },
  {
   "cell_type": "markdown",
   "id": "c05fd6c6",
   "metadata": {},
   "source": [
    "8) Realize a padronização dos conjuntos de treino e teste das questões anteriores. Note que os valores de média e desvio\n",
    "padrão do treino devem ser usados na padronização dos exemplos de teste. Apresente os conjuntos de treino e teste\n",
    "padronizados dessa forma. Observe ambos conjuntos tem valores absolutos superiores a 1.0. Justifique. Apresente a\n",
    "média e o desvio padrão usados na normalização de cada característica.\n"
   ]
  },
  {
   "cell_type": "markdown",
   "id": "b1d76614",
   "metadata": {},
   "source": [
    "9) Usando todo o dataset iris, aplique o classificador K vizinhos mais próximos com dados padronizados para realizar 6\n",
    "rodadas de validação cruzada estratificada com 5 folds. Apresente os 30 resultados de acurácia alcançados, a sua média,\n",
    "desvio padrão e intervalo de confiança a 95% de significância.\n"
   ]
  },
  {
   "cell_type": "markdown",
   "id": "46877001",
   "metadata": {},
   "source": [
    "9) Aplique o método de reamostragem de validação cruzada com 5 folds no dataset iris com o classificador vizinho mais\n",
    "próximo e apresente média, desvio padrão, intervalo de confiança a 95% da acurácia e a matriz de confusão dos\n",
    "resultados.\n"
   ]
  },
  {
   "cell_type": "markdown",
   "id": "d761c7c0",
   "metadata": {},
   "source": [
    "10) Usando todo o dataset iris, aplique o classificador K vizinhos mais próximos com dados padronizados para realizar\n",
    "3 rodadas de validação cruzada aninhada estratificada com 10 folds de ciclo externo e 4 folds no ciclo interno. A busca\n",
    "em grade deve considerar os valores 1, 3 e 5 para K. Apresente os 30 resultados de acurácia alcançados, a sua média,\n",
    "desvio padrão e intervalo de confiança a 95% de significância.\n"
   ]
  },
  {
   "cell_type": "markdown",
   "id": "3e0da4af",
   "metadata": {},
   "source": [
    "11) Discretize a matrix X_train definida no exercício 6 em intervalos de igual frequência. O número de intervalos de\n",
    "cada característica devem ser 3, 2, 2 e 4, respectivamente. Apresente a matriz resultante.\n"
   ]
  },
  {
   "cell_type": "markdown",
   "id": "fc643185",
   "metadata": {},
   "source": [
    "12) Discretize a matrix X_train definida no exercício 6 em intervalos de igual tamanho. O número de intervalos de cada\n",
    "característica devem ser 3, 2, 2 e 4, respectivamente. Apresente a matriz resultante.\n"
   ]
  },
  {
   "cell_type": "markdown",
   "id": "78da1c2a",
   "metadata": {},
   "source": [
    "13) Usando todo o dataset iris, aplique o classificador K vizinhos mais próximos com dados padronizados para realizar\n",
    "6 rodadas de validação cruzada aninhada estratificada com 5 folds de ciclo externo e 4 folds no ciclo interno. As\n",
    "características devem ser padronizadas e depois discretizadas em intervalos de igual tamanho. O número de intervalos\n",
    "deve corresponder ao dobro do produto do número de características pelo número de classes. A busca em grade deve\n",
    "considerar os valores 1, 3 e 5 para K. Apresente os 30 resultados de acurácia alcançados, a sua média, desvio padrão e\n",
    "intervalo de confiança a 95% de significância.\n"
   ]
  },
  {
   "cell_type": "markdown",
   "id": "d5f159c5",
   "metadata": {},
   "source": [
    "14) Transforme a seguinte matriz de dados [['green', 'M', 10.1, 'class1'],['red', 'L', 13.5, 'class2'],['blue', 'XL', 15.3,\n",
    "'class1']] para adaptar os dados categóricos da característica tamanho para o formato ordinal e a apresente. Faça o\n",
    "mesmo para a característica classe. Apresente a matriz resultante. Por fim, adapte os dados da característica cor para o\n",
    "formato binário (one hot encoder).\n"
   ]
  },
  {
   "cell_type": "markdown",
   "id": "f5f4b0d1",
   "metadata": {},
   "source": [
    "15) Use a matrix X_train para determinar as suas duas componentes principais e use o resultado para transformar a\n",
    "matriz X_test também definida no exercício 6. Apresente a X_test original e a transformada.\n",
    "\n"
   ]
  },
  {
   "cell_type": "markdown",
   "id": "1de23847",
   "metadata": {},
   "source": [
    "16) Considere a seguinte matriz binária: [[0, 1, 1], [0, 1, 0], [1, 1, 0], [0, 1, 1], [0, 1, 0], [0, 1, 1]]. Remova inicialmente a\n",
    "característica que não tem variância. Depois remova as características binárias cujo valor mais comum ocorre em 80%\n",
    "ou mais dos casos, ou seja, as com pouca variabilidade.\n"
   ]
  },
  {
   "cell_type": "markdown",
   "id": "db2cac93",
   "metadata": {},
   "source": [
    "17) Use seleção de características por ranqueamento univariado para selecionar as duas características mais\n",
    "informativas do dataset iris. Apresente a matriz original e a transformada.\n"
   ]
  },
  {
   "cell_type": "markdown",
   "id": "dda4c744",
   "metadata": {},
   "source": [
    "18) Divida aleatoriamente os exemplos do dataset iris mantendo 40% dos exemplos para a base de teste. Use o método\n",
    "de seleção de características por seleção sequencial para frente para escolher duas caraterísticas na base de treino.\n",
    "Apresente o nome dessas características.\n"
   ]
  },
  {
   "cell_type": "markdown",
   "id": "cf075af1",
   "metadata": {},
   "source": [
    "19) Use o método de seleção de características por seleção sequencial para trás para escolher uma única caraterística na\n",
    "base de treino do item anterior. Apresente o nome dessa característica."
   ]
  }
 ],
 "metadata": {
  "language_info": {
   "name": "python"
  }
 },
 "nbformat": 4,
 "nbformat_minor": 5
}
