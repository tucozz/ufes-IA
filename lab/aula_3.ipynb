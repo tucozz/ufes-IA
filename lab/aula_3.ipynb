{
 "cells": [
  {
   "cell_type": "markdown",
   "id": "4202d4d6",
   "metadata": {},
   "source": [
    "1) Usando a biblioteca numpy e o módulo datasets da biblioteca sklearn, carregue o dataset iris e apresente os rótulos das classes de iris, as dimensões e conteúdo das matrizes de treino e de classificação."
   ]
  },
  {
   "cell_type": "code",
   "execution_count": 42,
   "id": "c2005ff2",
   "metadata": {},
   "outputs": [
    {
     "name": "stdout",
     "output_type": "stream",
     "text": [
      "['setosa' 'versicolor' 'virginica']\n",
      "(150, 4)\n",
      "[[5.1 3.5 1.4 0.2]\n",
      " [4.9 3.  1.4 0.2]\n",
      " [4.7 3.2 1.3 0.2]\n",
      " [4.6 3.1 1.5 0.2]\n",
      " [5.  3.6 1.4 0.2]\n",
      " [5.4 3.9 1.7 0.4]\n",
      " [4.6 3.4 1.4 0.3]\n",
      " [5.  3.4 1.5 0.2]\n",
      " [4.4 2.9 1.4 0.2]\n",
      " [4.9 3.1 1.5 0.1]\n",
      " [5.4 3.7 1.5 0.2]\n",
      " [4.8 3.4 1.6 0.2]\n",
      " [4.8 3.  1.4 0.1]\n",
      " [4.3 3.  1.1 0.1]\n",
      " [5.8 4.  1.2 0.2]\n",
      " [5.7 4.4 1.5 0.4]\n",
      " [5.4 3.9 1.3 0.4]\n",
      " [5.1 3.5 1.4 0.3]\n",
      " [5.7 3.8 1.7 0.3]\n",
      " [5.1 3.8 1.5 0.3]\n",
      " [5.4 3.4 1.7 0.2]\n",
      " [5.1 3.7 1.5 0.4]\n",
      " [4.6 3.6 1.  0.2]\n",
      " [5.1 3.3 1.7 0.5]\n",
      " [4.8 3.4 1.9 0.2]\n",
      " [5.  3.  1.6 0.2]\n",
      " [5.  3.4 1.6 0.4]\n",
      " [5.2 3.5 1.5 0.2]\n",
      " [5.2 3.4 1.4 0.2]\n",
      " [4.7 3.2 1.6 0.2]\n",
      " [4.8 3.1 1.6 0.2]\n",
      " [5.4 3.4 1.5 0.4]\n",
      " [5.2 4.1 1.5 0.1]\n",
      " [5.5 4.2 1.4 0.2]\n",
      " [4.9 3.1 1.5 0.2]\n",
      " [5.  3.2 1.2 0.2]\n",
      " [5.5 3.5 1.3 0.2]\n",
      " [4.9 3.6 1.4 0.1]\n",
      " [4.4 3.  1.3 0.2]\n",
      " [5.1 3.4 1.5 0.2]\n",
      " [5.  3.5 1.3 0.3]\n",
      " [4.5 2.3 1.3 0.3]\n",
      " [4.4 3.2 1.3 0.2]\n",
      " [5.  3.5 1.6 0.6]\n",
      " [5.1 3.8 1.9 0.4]\n",
      " [4.8 3.  1.4 0.3]\n",
      " [5.1 3.8 1.6 0.2]\n",
      " [4.6 3.2 1.4 0.2]\n",
      " [5.3 3.7 1.5 0.2]\n",
      " [5.  3.3 1.4 0.2]\n",
      " [7.  3.2 4.7 1.4]\n",
      " [6.4 3.2 4.5 1.5]\n",
      " [6.9 3.1 4.9 1.5]\n",
      " [5.5 2.3 4.  1.3]\n",
      " [6.5 2.8 4.6 1.5]\n",
      " [5.7 2.8 4.5 1.3]\n",
      " [6.3 3.3 4.7 1.6]\n",
      " [4.9 2.4 3.3 1. ]\n",
      " [6.6 2.9 4.6 1.3]\n",
      " [5.2 2.7 3.9 1.4]\n",
      " [5.  2.  3.5 1. ]\n",
      " [5.9 3.  4.2 1.5]\n",
      " [6.  2.2 4.  1. ]\n",
      " [6.1 2.9 4.7 1.4]\n",
      " [5.6 2.9 3.6 1.3]\n",
      " [6.7 3.1 4.4 1.4]\n",
      " [5.6 3.  4.5 1.5]\n",
      " [5.8 2.7 4.1 1. ]\n",
      " [6.2 2.2 4.5 1.5]\n",
      " [5.6 2.5 3.9 1.1]\n",
      " [5.9 3.2 4.8 1.8]\n",
      " [6.1 2.8 4.  1.3]\n",
      " [6.3 2.5 4.9 1.5]\n",
      " [6.1 2.8 4.7 1.2]\n",
      " [6.4 2.9 4.3 1.3]\n",
      " [6.6 3.  4.4 1.4]\n",
      " [6.8 2.8 4.8 1.4]\n",
      " [6.7 3.  5.  1.7]\n",
      " [6.  2.9 4.5 1.5]\n",
      " [5.7 2.6 3.5 1. ]\n",
      " [5.5 2.4 3.8 1.1]\n",
      " [5.5 2.4 3.7 1. ]\n",
      " [5.8 2.7 3.9 1.2]\n",
      " [6.  2.7 5.1 1.6]\n",
      " [5.4 3.  4.5 1.5]\n",
      " [6.  3.4 4.5 1.6]\n",
      " [6.7 3.1 4.7 1.5]\n",
      " [6.3 2.3 4.4 1.3]\n",
      " [5.6 3.  4.1 1.3]\n",
      " [5.5 2.5 4.  1.3]\n",
      " [5.5 2.6 4.4 1.2]\n",
      " [6.1 3.  4.6 1.4]\n",
      " [5.8 2.6 4.  1.2]\n",
      " [5.  2.3 3.3 1. ]\n",
      " [5.6 2.7 4.2 1.3]\n",
      " [5.7 3.  4.2 1.2]\n",
      " [5.7 2.9 4.2 1.3]\n",
      " [6.2 2.9 4.3 1.3]\n",
      " [5.1 2.5 3.  1.1]\n",
      " [5.7 2.8 4.1 1.3]\n",
      " [6.3 3.3 6.  2.5]\n",
      " [5.8 2.7 5.1 1.9]\n",
      " [7.1 3.  5.9 2.1]\n",
      " [6.3 2.9 5.6 1.8]\n",
      " [6.5 3.  5.8 2.2]\n",
      " [7.6 3.  6.6 2.1]\n",
      " [4.9 2.5 4.5 1.7]\n",
      " [7.3 2.9 6.3 1.8]\n",
      " [6.7 2.5 5.8 1.8]\n",
      " [7.2 3.6 6.1 2.5]\n",
      " [6.5 3.2 5.1 2. ]\n",
      " [6.4 2.7 5.3 1.9]\n",
      " [6.8 3.  5.5 2.1]\n",
      " [5.7 2.5 5.  2. ]\n",
      " [5.8 2.8 5.1 2.4]\n",
      " [6.4 3.2 5.3 2.3]\n",
      " [6.5 3.  5.5 1.8]\n",
      " [7.7 3.8 6.7 2.2]\n",
      " [7.7 2.6 6.9 2.3]\n",
      " [6.  2.2 5.  1.5]\n",
      " [6.9 3.2 5.7 2.3]\n",
      " [5.6 2.8 4.9 2. ]\n",
      " [7.7 2.8 6.7 2. ]\n",
      " [6.3 2.7 4.9 1.8]\n",
      " [6.7 3.3 5.7 2.1]\n",
      " [7.2 3.2 6.  1.8]\n",
      " [6.2 2.8 4.8 1.8]\n",
      " [6.1 3.  4.9 1.8]\n",
      " [6.4 2.8 5.6 2.1]\n",
      " [7.2 3.  5.8 1.6]\n",
      " [7.4 2.8 6.1 1.9]\n",
      " [7.9 3.8 6.4 2. ]\n",
      " [6.4 2.8 5.6 2.2]\n",
      " [6.3 2.8 5.1 1.5]\n",
      " [6.1 2.6 5.6 1.4]\n",
      " [7.7 3.  6.1 2.3]\n",
      " [6.3 3.4 5.6 2.4]\n",
      " [6.4 3.1 5.5 1.8]\n",
      " [6.  3.  4.8 1.8]\n",
      " [6.9 3.1 5.4 2.1]\n",
      " [6.7 3.1 5.6 2.4]\n",
      " [6.9 3.1 5.1 2.3]\n",
      " [5.8 2.7 5.1 1.9]\n",
      " [6.8 3.2 5.9 2.3]\n",
      " [6.7 3.3 5.7 2.5]\n",
      " [6.7 3.  5.2 2.3]\n",
      " [6.3 2.5 5.  1.9]\n",
      " [6.5 3.  5.2 2. ]\n",
      " [6.2 3.4 5.4 2.3]\n",
      " [5.9 3.  5.1 1.8]]\n",
      "[0 0 0 0 0 0 0 0 0 0 0 0 0 0 0 0 0 0 0 0 0 0 0 0 0 0 0 0 0 0 0 0 0 0 0 0 0\n",
      " 0 0 0 0 0 0 0 0 0 0 0 0 0 1 1 1 1 1 1 1 1 1 1 1 1 1 1 1 1 1 1 1 1 1 1 1 1\n",
      " 1 1 1 1 1 1 1 1 1 1 1 1 1 1 1 1 1 1 1 1 1 1 1 1 1 1 2 2 2 2 2 2 2 2 2 2 2\n",
      " 2 2 2 2 2 2 2 2 2 2 2 2 2 2 2 2 2 2 2 2 2 2 2 2 2 2 2 2 2 2 2 2 2 2 2 2 2\n",
      " 2 2]\n"
     ]
    }
   ],
   "source": [
    "import numpy as np\n",
    "from sklearn import datasets\n",
    "\n",
    "ds = datasets.load_iris()\n",
    "\n",
    "print(ds.target_names)\n",
    "print(ds.data.shape)\n",
    "\n",
    "print(ds.data)\n",
    "print(ds.target)"
   ]
  },
  {
   "cell_type": "markdown",
   "id": "4d39cab2",
   "metadata": {},
   "source": [
    "2) Crie uma função em python que receba um vetor com classificações dos exemplos de um dataset e apresente a distribuição de probabilidades de cada classe."
   ]
  },
  {
   "cell_type": "code",
   "execution_count": 21,
   "id": "3f91fa09",
   "metadata": {},
   "outputs": [
    {
     "name": "stdout",
     "output_type": "stream",
     "text": [
      "{np.int64(0): 0.3333333333333333, np.int64(1): 0.3333333333333333, np.int64(2): 0.3333333333333333}\n"
     ]
    }
   ],
   "source": [
    "def probability_distribution(classifications):\n",
    "    count = {}\n",
    "    \n",
    "    for classification in classifications:\n",
    "        if classification in count:\n",
    "            count[classification] += 1\n",
    "        else:\n",
    "            count[classification] = 1\n",
    "\n",
    "    total_count = len(classifications)\n",
    "    \n",
    "    probabilities = {}\n",
    "    for classification, count in count.items():\n",
    "        probabilities[classification] = count / total_count\n",
    "    \n",
    "    return probabilities\n",
    "\n",
    "print(probability_distribution(ds.target))\n"
   ]
  },
  {
   "cell_type": "markdown",
   "id": "dde3afc6",
   "metadata": {},
   "source": [
    "3) Selecione aleatoriamente 10 exemplos da base iris para teste e use os demais exemplos para treinar um modelo usando a técnica do vizinho mais próximo. Apresente a classificação real e a classificação obtida pelo modelo para os 10 exemplos de teste."
   ]
  },
  {
   "cell_type": "code",
   "execution_count": 36,
   "id": "90658b2c",
   "metadata": {},
   "outputs": [
    {
     "name": "stdout",
     "output_type": "stream",
     "text": [
      "[1 1 1 0 0 0 2 1 2 0]\n",
      "[1 2 1 0 0 0 2 1 2 0]\n"
     ]
    }
   ],
   "source": [
    "np.random.seed(0)\n",
    "indices = np.random.permutation(len(ds.data))\n",
    "iris_X_train = ds.data[indices[:-10]]\n",
    "iris_X_test = ds.data[indices[-10:]]\n",
    "iris_y_train = ds.target[indices[:-10]]\n",
    "iris_y_test = ds.target[indices[-10:]]\n",
    "\n",
    "from sklearn.neighbors import KNeighborsClassifier\n",
    "\n",
    "knn = KNeighborsClassifier(n_neighbors=1)\n",
    "knn.fit(iris_X_train, iris_y_train)\n",
    "print(iris_y_test)\n",
    "print(knn.predict(iris_X_test))\n"
   ]
  },
  {
   "cell_type": "markdown",
   "id": "5ced95da",
   "metadata": {},
   "source": [
    "4) Usando o modulo model_selection do sklearn, selecione aleatoriamente 40% dos exemplos da base iris para teste e use os demais exemplos para treinar um modelo baseado na técnica do vizinho mais próximo. Apresente as dimensões das matrizes de treino e classificação dos conjuntos de treino e teste, a classificação real e a classificação obtida pelo modelo para os exemplos de teste e a acurácia alcançada."
   ]
  },
  {
   "cell_type": "code",
   "execution_count": 40,
   "id": "04105211",
   "metadata": {},
   "outputs": [
    {
     "name": "stdout",
     "output_type": "stream",
     "text": [
      "(90, 4)\n",
      "(60, 4)\n",
      "(90,)\n",
      "(60,)\n",
      "[2 1 0 2 0 2 0 1 1 1 2 1 1 1 1 0 1 1 0 0 2 1 0 0 2 0 0 1 1 0 2 1 0 2 2 1 0\n",
      " 1 1 1 2 0 2 0 0 1 2 2 2 2 1 2 1 1 2 2 2 2 1 2]\n",
      "[2 1 0 2 0 2 0 1 1 1 2 1 1 1 1 0 1 1 0 0 2 1 0 0 2 0 0 1 1 0 2 1 0 2 2 1 0\n",
      " 2 1 1 2 0 2 0 0 1 2 2 1 2 1 2 1 1 1 1 1 2 1 2]\n",
      "0.9166666666666666\n"
     ]
    }
   ],
   "source": [
    "from sklearn import model_selection\n",
    "\n",
    "np.random.seed(0)\n",
    "iris_X_train, iris_X_test, iris_y_train, iris_y_test = model_selection.train_test_split(\n",
    "    ds.data, ds.target, test_size=0.4\n",
    ")\n",
    "\n",
    "knn = KNeighborsClassifier(n_neighbors=1)\n",
    "knn.fit(iris_X_train, iris_y_train)\n",
    "\n",
    "print(iris_X_train.shape)\n",
    "print(iris_X_test.shape)\n",
    "print(iris_y_train.shape)\n",
    "print(iris_y_test.shape)\n",
    "\n",
    "print(iris_y_test)\n",
    "print(knn.predict(iris_X_test))\n",
    "\n",
    "from sklearn.metrics import accuracy_score\n",
    "print(accuracy_score(iris_y_test, knn.predict(iris_X_test)))"
   ]
  },
  {
   "cell_type": "markdown",
   "id": "2ac8cbc4",
   "metadata": {},
   "source": [
    "5) Usando o modulo metrics do sklearn, apresente a matriz de confusão do exercício anterior."
   ]
  },
  {
   "cell_type": "code",
   "execution_count": 41,
   "id": "5ab853a5",
   "metadata": {},
   "outputs": [
    {
     "name": "stdout",
     "output_type": "stream",
     "text": [
      "[[16  0  0]\n",
      " [ 0 22  1]\n",
      " [ 0  4 17]]\n"
     ]
    }
   ],
   "source": [
    "from sklearn.metrics import confusion_matrix\n",
    "\n",
    "print(confusion_matrix(iris_y_test, knn.predict(iris_X_test)))"
   ]
  },
  {
   "cell_type": "markdown",
   "id": "29631b89",
   "metadata": {},
   "source": [
    "6) Ainda usando o modulo metrics do sklearn, utilize as predições do exercício anterior, para apresentar a acurácia, a acurácia balanceada, as precisões macro, micro e balanceada, as revocações macro, micro e balanceada, e as medidas f macro, micro e balanceada."
   ]
  },
  {
   "cell_type": "code",
   "execution_count": 43,
   "id": "632896f1",
   "metadata": {},
   "outputs": [
    {
     "name": "stdout",
     "output_type": "stream",
     "text": [
      "0.9166666666666666\n",
      "0.9220151828847482\n",
      "0.9301994301994302\n",
      "0.9166666666666666\n",
      "0.9215811965811966\n",
      "0.9301994301994302\n",
      "0.9166666666666666\n",
      "0.9215811965811966\n",
      "0.9301994301994302\n",
      "0.9166666666666666\n",
      "0.9215811965811966\n"
     ]
    }
   ],
   "source": [
    "from sklearn.metrics import balanced_accuracy_score\n",
    "from sklearn.metrics import precision_score\n",
    "\n",
    "print(accuracy_score(iris_y_test, knn.predict(iris_X_test)))\n",
    "print(balanced_accuracy_score(iris_y_test, knn.predict(iris_X_test)))\n",
    "\n",
    "print(precision_score(iris_y_test, knn.predict(iris_X_test), average='macro'))\n",
    "print(precision_score(iris_y_test, knn.predict(iris_X_test), average='micro'))\n",
    "print(precision_score(iris_y_test, knn.predict(iris_X_test), average='weighted'))\n",
    "\n",
    "print(precision_score(iris_y_test, knn.predict(iris_X_test), average='macro'))\n",
    "print(precision_score(iris_y_test, knn.predict(iris_X_test), average='micro'))\n",
    "print(precision_score(iris_y_test, knn.predict(iris_X_test), average='weighted'))\n",
    "\n",
    "print(precision_score(iris_y_test, knn.predict(iris_X_test), average='macro'))\n",
    "print(precision_score(iris_y_test, knn.predict(iris_X_test), average='micro'))\n",
    "print(precision_score(iris_y_test, knn.predict(iris_X_test), average='weighted'))"
   ]
  },
  {
   "cell_type": "markdown",
   "id": "4142e1ec",
   "metadata": {},
   "source": [
    "7) Aplique o método de reamostragem de resubstituição no dataset iris usando o classificador vizinho mais próximo e apresente a matriz de confusão dos resultados."
   ]
  },
  {
   "cell_type": "markdown",
   "id": "6e35cd63",
   "metadata": {},
   "source": [
    "8) Aplique o método de reamostragem de divisão percentual no dataset iris com 50% de exemplos selecionados aleatoriamente para treino e 50% para teste e use o classificador vizinho mais próximo para apresentar a matriz de confusão dos resultados."
   ]
  },
  {
   "cell_type": "markdown",
   "id": "4e38c589",
   "metadata": {},
   "source": [
    "9) Aplique o método de reamostragem de validação cruzada com 5 folds no dataset iris com o classificador vizinho mais próximo e apresente média, desvio padrão, intervalo de confiança a 95% da acurácia e a matriz de confusão dos resultados."
   ]
  },
  {
   "cell_type": "markdown",
   "id": "a03729ab",
   "metadata": {},
   "source": [
    "10) Aplique o método de reamostragem de validação cruzada com 5 folds no dataset iris com o classificador vizinho mais próximo e apresente média e desvio padrão da acurácia, precisão macro, revocação macro e medida f dos resultados."
   ]
  },
  {
   "cell_type": "markdown",
   "id": "23fc4d48",
   "metadata": {},
   "source": [
    "11) Aplique o método de reamostragem do um excluído no dataset iris com o classificador vizinho mais próximo e apresente média, desvio padrão e intervalo de confiança a 95% da acurácia dos resultados."
   ]
  },
  {
   "cell_type": "markdown",
   "id": "313c1551",
   "metadata": {},
   "source": [
    "12) Aplique o método de reamostragem de validação cruzada com 10 folds no dataset iris com o classificador de k vizinhos mais próximos fazendo uma busca em grade nos valores de k (k = 1, 3 e 5) e apresente a melhor média de acurácia alcançada e os valores dos hiperparâmetros do método que atingiu essa melhor média de acurácia. Apresente também a lista de informações disponíveis para acessar após a realização da busca em grade, os resultados de acurácia obtidos por cada modelo em cada fold e, por fim, a média da acurácia alcançada cada modelo ao final da validação cruzada."
   ]
  },
  {
   "cell_type": "markdown",
   "id": "74098f0e",
   "metadata": {},
   "source": [
    "13) Aplique o método de reamostragem de validação cruzada aninhada repetida com 6 repetições de validação cruzada com 5 folds no ciclo externo e 4 folds no ciclo interno no dataset iris com o classificador de k vizinhos mais próximos fazendo uma busca em grade nos valores de k (k = 1, 3 e 5). Apresente os 30 resultados de acurácia alcançados em cada fold de teste, a média, o desvio padrão e o intervalo de confiança a 95% dessas acurácias."
   ]
  },
  {
   "cell_type": "markdown",
   "id": "d28cf059",
   "metadata": {},
   "source": [
    "14) Repita o procedimento do exercício anterior trocando o classificador de K vizinhos mais próximos pelo classificador de árvore de decisão fazendo a busca em grade com os valores 2 e 3 para o hiperparâmetro max_depth e 2 e 4 para o hiperparâmetro min_samples_split."
   ]
  },
  {
   "cell_type": "markdown",
   "id": "8833099a",
   "metadata": {},
   "source": [
    "15) Compare estatisticamente os resultados alcançados de acurácia pelos classificadores K vizinhos mais próximos e árvore de decisão obtidos nos dois últimos exercícios usando os testes de hipótese t pareado para amostras correlacionadas e wilcoxon."
   ]
  },
  {
   "cell_type": "markdown",
   "id": "b4f49c72",
   "metadata": {},
   "source": [
    "16) Implemente uma função que aplique a correção de Nadeau e Bengio (usando a equação relatada em https://www.cs.waikato.ac.nz/~eibe/pubs/bouckaert_and_frank.pdf) para o teste de hipótese t pareado para amostras correlacionadas e a utilize para realizar novamente a comparação estatística do exercício anterior."
   ]
  }
 ],
 "metadata": {
  "kernelspec": {
   "display_name": ".venv",
   "language": "python",
   "name": "python3"
  },
  "language_info": {
   "codemirror_mode": {
    "name": "ipython",
    "version": 3
   },
   "file_extension": ".py",
   "mimetype": "text/x-python",
   "name": "python",
   "nbconvert_exporter": "python",
   "pygments_lexer": "ipython3",
   "version": "3.12.3"
  }
 },
 "nbformat": 4,
 "nbformat_minor": 5
}
