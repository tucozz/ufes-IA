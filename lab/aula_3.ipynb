{
 "cells": [
  {
   "cell_type": "markdown",
   "id": "4202d4d6",
   "metadata": {},
   "source": [
    "1) Usando a biblioteca numpy e o módulo datasets da biblioteca sklearn, carregue o dataset iris e apresente os rótulos das classes de iris, as dimensões e conteúdo das matrizes de treino e de classificação."
   ]
  },
  {
   "cell_type": "markdown",
   "id": "4d39cab2",
   "metadata": {},
   "source": [
    "2) Crie uma função em python que receba um vetor com classificações dos exemplos de um dataset e apresente a distribuição de probabilidades de cada classe."
   ]
  },
  {
   "cell_type": "markdown",
   "id": "dde3afc6",
   "metadata": {},
   "source": [
    "3) Selecione aleatoriamente 10 exemplos da base iris para teste e use os demais exemplos para treinar um modelo usando a técnica do vizinho mais próximo. Apresente a classificação real e a classificação obtida pelo modelo para os 10 exemplos de teste."
   ]
  },
  {
   "cell_type": "markdown",
   "id": "5ced95da",
   "metadata": {},
   "source": [
    "4) Usando o modulo model_selection do sklearn, selecione aleatoriamente 40% dos exemplos da base iris para teste e use os demais exemplos para treinar um modelo baseado na técnica do vizinho mais próximo. Apresente as dimensões das matrizes de treino e classificação dos conjuntos de treino e teste, a classificação real e a classificação obtida pelo modelo para os exemplos de teste e a acurácia alcançada."
   ]
  },
  {
   "cell_type": "markdown",
   "id": "2ac8cbc4",
   "metadata": {},
   "source": [
    "5) Usando o modulo metrics do sklearn, apresente a matriz de confusão do exercício anterior."
   ]
  },
  {
   "cell_type": "markdown",
   "id": "29631b89",
   "metadata": {},
   "source": [
    "6) Ainda usando o modulo metrics do sklearn, utilize as predições do exercício anterior, para apresentar a acurácia, a acurácia balanceada, as precisões macro, micro e balanceada, as revocações macro, micro e balanceada, e as medidas f macro, micro e balanceada."
   ]
  },
  {
   "cell_type": "markdown",
   "id": "4142e1ec",
   "metadata": {},
   "source": [
    "7) Aplique o método de reamostragem de resubstituição no dataset iris usando o classificador vizinho mais próximo e apresente a matriz de confusão dos resultados."
   ]
  },
  {
   "cell_type": "markdown",
   "id": "6e35cd63",
   "metadata": {},
   "source": [
    "8) Aplique o método de reamostragem de divisão percentual no dataset iris com 50% de exemplos selecionados aleatoriamente para treino e 50% para teste e use o classificador vizinho mais próximo para apresentar a matriz de confusão dos resultados."
   ]
  },
  {
   "cell_type": "markdown",
   "id": "4e38c589",
   "metadata": {},
   "source": [
    "9) Aplique o método de reamostragem de validação cruzada com 5 folds no dataset iris com o classificador vizinho mais próximo e apresente média, desvio padrão, intervalo de confiança a 95% da acurácia e a matriz de confusão dos resultados."
   ]
  },
  {
   "cell_type": "markdown",
   "id": "a03729ab",
   "metadata": {},
   "source": [
    "10) Aplique o método de reamostragem de validação cruzada com 5 folds no dataset iris com o classificador vizinho mais próximo e apresente média e desvio padrão da acurácia, precisão macro, revocação macro e medida f dos resultados."
   ]
  },
  {
   "cell_type": "markdown",
   "id": "23fc4d48",
   "metadata": {},
   "source": [
    "11) Aplique o método de reamostragem do um excluído no dataset iris com o classificador vizinho mais próximo e apresente média, desvio padrão e intervalo de confiança a 95% da acurácia dos resultados."
   ]
  },
  {
   "cell_type": "markdown",
   "id": "313c1551",
   "metadata": {},
   "source": [
    "12) Aplique o método de reamostragem de validação cruzada com 10 folds no dataset iris com o classificador de k vizinhos mais próximos fazendo uma busca em grade nos valores de k (k = 1, 3 e 5) e apresente a melhor média de acurácia alcançada e os valores dos hiperparâmetros do método que atingiu essa melhor média de acurácia. Apresente também a lista de informações disponíveis para acessar após a realização da busca em grade, os resultados de acurácia obtidos por cada modelo em cada fold e, por fim, a média da acurácia alcançada cada modelo ao final da validação cruzada."
   ]
  },
  {
   "cell_type": "markdown",
   "id": "74098f0e",
   "metadata": {},
   "source": [
    "13) Aplique o método de reamostragem de validação cruzada aninhada repetida com 6 repetições de validação cruzada com 5 folds no ciclo externo e 4 folds no ciclo interno no dataset iris com o classificador de k vizinhos mais próximos fazendo uma busca em grade nos valores de k (k = 1, 3 e 5). Apresente os 30 resultados de acurácia alcançados em cada fold de teste, a média, o desvio padrão e o intervalo de confiança a 95% dessas acurácias."
   ]
  },
  {
   "cell_type": "markdown",
   "id": "d28cf059",
   "metadata": {},
   "source": [
    "14) Repita o procedimento do exercício anterior trocando o classificador de K vizinhos mais próximos pelo classificador de árvore de decisão fazendo a busca em grade com os valores 2 e 3 para o hiperparâmetro max_depth e 2 e 4 para o hiperparâmetro min_samples_split."
   ]
  },
  {
   "cell_type": "markdown",
   "id": "8833099a",
   "metadata": {},
   "source": [
    "15) Compare estatisticamente os resultados alcançados de acurácia pelos classificadores K vizinhos mais próximos e árvore de decisão obtidos nos dois últimos exercícios usando os testes de hipótese t pareado para amostras correlacionadas e wilcoxon."
   ]
  },
  {
   "cell_type": "markdown",
   "id": "b4f49c72",
   "metadata": {},
   "source": [
    "16) Implemente uma função que aplique a correção de Nadeau e Bengio (usando a equação relatada em https://www.cs.waikato.ac.nz/~eibe/pubs/bouckaert_and_frank.pdf) para o teste de hipótese t pareado para amostras correlacionadas e a utilize para realizar novamente a comparação estatística do exercício anterior."
   ]
  }
 ],
 "metadata": {
  "language_info": {
   "name": "python"
  }
 },
 "nbformat": 4,
 "nbformat_minor": 5
}
